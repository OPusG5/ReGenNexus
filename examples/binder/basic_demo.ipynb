"""
ReGenNexus Core - Basic Jupyter Notebook Example

This notebook demonstrates the basic functionality of ReGenNexus Core.
It shows how to set up entities, send messages, and use the registry.
"""

import asyncio
import json
import time
import uuid
from IPython.display import display, HTML, clear_output
import ipywidgets as widgets
import nest_asyncio

# Apply nest_asyncio to allow asyncio to work in Jupyter
nest_asyncio.apply()

# Import ReGenNexus Core modules
from regennexus.protocol.client import UAP_Client
from regennexus.protocol.message import UAP_Message
from regennexus.registry.registry import Registry

# Create output area for logs
log_output = widgets.Output()
display(HTML("<h2>ReGenNexus Core Demo</h2>"))
display(HTML("<h3>Log Output:</h3>"))
display(log_output)

# Create a registry instance
registry = Registry()

# Create entity clients
entity1 = None
entity2 = None

async def setup_demo():
    """Set up the demo environment."""
    global registry, entity1, entity2
    
    with log_output:
        print("Setting up demo environment...")
        
        # Start registry
        await registry.start()
        print("Registry started")
        
        # Create entity clients
        entity1 = UAP_Client(entity_id="demo_entity_1", registry_url="local")
        entity2 = UAP_Client(entity_id="demo_entity_2", registry_url="local")
        
        # Connect entities
        await entity1.connect()
        await entity2.connect()
        print("Entities connected")
        
        # Register message handlers
        entity1.register_message_handler(entity1_message_handler)
        entity2.register_message_handler(entity2_message_handler)
        print("Message handlers registered")
        
        # Register entities with registry
        await registry.register_entity(
            entity_id="demo_entity_1",
            entity_type="demo",
            capabilities=["send", "receive"],
            metadata={"description": "Demo Entity 1"}
        )
        
        await registry.register_entity(
            entity_id="demo_entity_2",
            entity_type="demo",
            capabilities=["send", "receive"],
            metadata={"description": "Demo Entity 2"}
        )
        print("Entities registered")
        
        print("Demo environment ready!")

async def entity1_message_handler(message):
    """Handle messages received by entity1."""
    with log_output:
        print(f"Entity 1 received: {message.intent} from {message.sender}")
        print(f"  Payload: {json.dumps(message.payload, indent=2)}")

async def entity2_message_handler(message):
    """Handle messages received by entity2."""
    with log_output:
        print(f"Entity 2 received: {message.intent} from {message.sender}")
        print(f"  Payload: {json.dumps(message.payload, indent=2)}")

async def send_message(sender, recipient, intent, payload):
    """Send a message between entities."""
    with log_output:
        print(f"Sending message from {sender.entity_id} to {recipient.entity_id}")
        print(f"  Intent: {intent}")
        print(f"  Payload: {json.dumps(payload, indent=2)}")
        
    message = UAP_Message(
        sender=sender.entity_id,
        recipient=recipient.entity_id,
        intent=intent,
        payload=payload
    )
    
    await sender.send_message(message)

async def find_entities(entity_type=None, capabilities=None):
    """Find entities in the registry."""
    with log_output:
        print(f"Finding entities with type={entity_type}, capabilities={capabilities}")
        
    entities = await registry.find_entities(entity_type, capabilities)
    
    with log_output:
        print(f"Found {len(entities)} entities:")
        for entity in entities:
            print(f"  {entity['entity_id']} ({entity['entity_type']})")
            print(f"    Capabilities: {entity['capabilities']}")
            print(f"    Metadata: {entity['metadata']}")

async def cleanup_demo():
    """Clean up the demo environment."""
    global registry, entity1, entity2
    
    with log_output:
        print("Cleaning up demo environment...")
        
        # Unregister entities
        if registry:
            await registry.unregister_entity("demo_entity_1")
            await registry.unregister_entity("demo_entity_2")
            print("Entities unregistered")
            
            # Stop registry
            await registry.stop()
            print("Registry stopped")
        
        # Disconnect entities
        if entity1:
            await entity1.disconnect()
        if entity2:
            await entity2.disconnect()
        print("Entities disconnected")
        
        print("Demo environment cleaned up!")

# Run setup
asyncio.run(setup_demo())

# Create UI controls
send_button = widgets.Button(description="Send Message")
clear_button = widgets.Button(description="Clear Log")
find_button = widgets.Button(description="Find Entities")
cleanup_button = widgets.Button(description="Cleanup Demo")

# Create message input fields
sender_dropdown = widgets.Dropdown(
    options=[('Entity 1', 'entity1'), ('Entity 2', 'entity2')],
    value='entity1',
    description='Sender:'
)

recipient_dropdown = widgets.Dropdown(
    options=[('Entity 1', 'entity1'), ('Entity 2', 'entity2')],
    value='entity2',
    description='Recipient:'
)

intent_text = widgets.Text(
    value='hello',
    placeholder='Enter intent',
    description='Intent:'
)

payload_text = widgets.Textarea(
    value='{"message": "Hello from Jupyter!"}',
    placeholder='Enter JSON payload',
    description='Payload:'
)

# Define button callbacks
def on_send_button_clicked(b):
    sender = entity1 if sender_dropdown.value == 'entity1' else entity2
    recipient = entity1 if recipient_dropdown.value == 'entity1' else entity2
    
    try:
        payload = json.loads(payload_text.value)
    except json.JSONDecodeError:
        with log_output:
            print("Error: Invalid JSON payload")
        return
    
    asyncio.ensure_future(send_message(sender, recipient, intent_text.value, payload))

def on_clear_button_clicked(b):
    log_output.clear_output()

def on_find_button_clicked(b):
    asyncio.ensure_future(find_entities())

def on_cleanup_button_clicked(b):
    asyncio.ensure_future(cleanup_demo())

# Connect callbacks
send_button.on_click(on_send_button_clicked)
clear_button.on_click(on_clear_button_clicked)
find_button.on_click(on_find_button_clicked)
cleanup_button.on_click(on_cleanup_button_clicked)

# Display UI
display(HTML("<h3>Send Message:</h3>"))
display(widgets.VBox([
    sender_dropdown,
    recipient_dropdown,
    intent_text,
    payload_text,
    widgets.HBox([send_button, clear_button, find_button, cleanup_button])
]))

# Display instructions
display(HTML("""
<h3>Instructions:</h3>
<ol>
    <li>Use the controls above to send messages between entities</li>
    <li>Click "Find Entities" to query the registry</li>
    <li>Click "Clear Log" to clear the log output</li>
    <li>Click "Cleanup Demo" when finished to release resources</li>
</ol>
<p>This demo shows the basic functionality of ReGenNexus Core:</p>
<ul>
    <li>Entity registration and discovery</li>
    <li>Message sending and handling</li>
    <li>Registry queries</li>
</ul>
"""))
