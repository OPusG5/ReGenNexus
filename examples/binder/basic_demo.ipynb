{
 "cells": [
  {
   "cell_type": "markdown",
   "metadata": {},
   "source": [
    "# ReGenNexus Core - Basic Demo\n",
    "\n",
    "This notebook demonstrates the basic functionality of ReGenNexus Core.\n",
    "It shows how to establish connections, send messages, and handle events."
   ]
  },
  {
   "cell_type": "code",
   "execution_count": null,
   "metadata": {},
   "source": [
    "import asyncio\n",
    "import json\n",
    "import time\n",
    "import uuid\n",
    "from IPython.display import display, HTML, clear_output\n",
    "import ipywidgets as widgets\n",
    "import nest_asyncio\n",
    "\n",
    "# Apply nest_asyncio to allow asyncio to work in Jupyter\n",
    "nest_asyncio.apply()"
   ]
  },
  {
   "cell_type": "code",
   "execution_count": null,
   "metadata": {},
   "source": [
    "# Import ReGenNexus Core modules\n",
    "from regennexus.protocol.client import Client\n",
    "from regennexus.protocol.message import Message\n",
    "from regennexus.protocol.protocol_core import MessageType"
   ]
  },
  {
   "cell_type": "code",
   "execution_count": null,
   "metadata": {},
   "source": [
    "# Create output area for logs\n",
    "log_output = widgets.Output()\n",
    "display(HTML(\"<h2>ReGenNexus Core Basic Demo</h2>\"))\n",
    "display(HTML(\"<h3>Log Output:</h3>\"))\n",
    "display(log_output)"
   ]
  },
  {
   "cell_type": "code",
   "execution_count": null,
   "metadata": {},
   "source": [
    "# Initialize clients\n",
    "client1 = None\n",
    "client2 = None\n",
    "\n",
    "async def setup_demo():\n",
    "    \"\"\"Set up the demo environment with two clients.\"\"\"\n",
    "    global client1, client2\n",
    "    \n",
    "    with log_output:\n",
    "        print(\"Setting up demo environment...\")\n",
    "        \n",
    "        # Create clients\n",
    "        client1 = Client(client_id=\"demo_client_1\")\n",
    "        client2 = Client(client_id=\"demo_client_2\")\n",
    "        \n",
    "        # Set up message handlers\n",
    "        client1.set_message_handler(handle_client1_message)\n",
    "        client2.set_message_handler(handle_client2_message)\n",
    "        \n",
    "        # Initialize clients\n",
    "        await client1.initialize()\n",
    "        await client2.initialize()\n",
    "        \n",
    "        print(\"Clients initialized\")\n",
    "        print(\"Demo environment ready!\")\n",
    "\n",
    "async def handle_client1_message(message):\n",
    "    \"\"\"Handle messages received by client1.\"\"\"\n",
    "    with log_output:\n",
    "        print(f\"Client 1 received: {message.content} (type: {message.message_type})\")\n",
    "\n",
    "async def handle_client2_message(message):\n",
    "    \"\"\"Handle messages received by client2.\"\"\"\n",
    "    with log_output:\n",
    "        print(f\"Client 2 received: {message.content} (type: {message.message_type})\")\n",
    "\n",
    "async def send_message(from_client, to_client, content, message_type=MessageType.TEXT):\n",
    "    \"\"\"Send a message from one client to another.\"\"\"\n",
    "    with log_output:\n",
    "        print(f\"Sending message from {from_client.client_id} to {to_client.client_id}\")\n",
    "        print(f\"Content: {content}\")\n",
    "        \n",
    "        # Create message\n",
    "        message = Message(\n",
    "            sender_id=from_client.client_id,\n",
    "            recipient_id=to_client.client_id,\n",
    "            message_type=message_type,\n",
    "            content=content\n",
    "        )\n",
    "        \n",
    "        # Send message\n",
    "        await from_client.send_message(message)\n",
    "        \n",
    "        print(\"Message sent!\")\n",
    "\n",
    "async def cleanup_demo():\n",
    "    \"\"\"Clean up the demo environment.\"\"\"\n",
    "    global client1, client2\n",
    "    \n",
    "    with log_output:\n",
    "        print(\"Cleaning up demo environment...\")\n",
    "        \n",
    "        # Shut down clients\n",
    "        if client1:\n",
    "            await client1.shutdown()\n",
    "        \n",
    "        if client2:\n",
    "            await client2.shutdown()\n",
    "            \n",
    "        print(\"Clients shut down\")\n",
    "        print(\"Demo environment cleaned up!\")"
   ]
  },
  {
   "cell_type": "code",
   "execution_count": null,
   "metadata": {},
   "source": [
    "# Run setup\n",
    "asyncio.run(setup_demo())"
   ]
  },
  {
   "cell_type": "code",
   "execution_count": null,
   "metadata": {},
   "source": [
    "# Create UI controls\n",
    "message_input = widgets.Text(description=\"Message:\", placeholder=\"Enter message here\", layout=widgets.Layout(width=\"50%\"))\n",
    "client1_to_client2_button = widgets.Button(description=\"Client 1 → Client 2\")\n",
    "client2_to_client1_button = widgets.Button(description=\"Client 2 → Client 1\")\n",
    "clear_button = widgets.Button(description=\"Clear Log\")\n",
    "cleanup_button = widgets.Button(description=\"Cleanup Demo\")\n",
    "\n",
    "# Define button callbacks\n",
    "def on_client1_to_client2_button_clicked(b):\n",
    "    asyncio.ensure_future(send_message(client1, client2, message_input.value))\n",
    "\n",
    "def on_client2_to_client1_button_clicked(b):\n",
    "    asyncio.ensure_future(send_message(client2, client1, message_input.value))\n",
    "\n",
    "def on_clear_button_clicked(b):\n",
    "    log_output.clear_output()\n",
    "\n",
    "def on_cleanup_button_clicked(b):\n",
    "    asyncio.ensure_future(cleanup_demo())\n",
    "\n",
    "# Connect callbacks\n",
    "client1_to_client2_button.on_click(on_client1_to_client2_button_clicked)\n",
    "client2_to_client1_button.on_click(on_client2_to_client1_button_clicked)\n",
    "clear_button.on_click(on_clear_button_clicked)\n",
    "cleanup_button.on_click(on_cleanup_button_clicked)\n",
    "\n",
    "# Display UI\n",
    "display(message_input)\n",
    "display(widgets.HBox([\n",
    "    client1_to_client2_button, client2_to_client1_button, clear_button, cleanup_button\n",
    "]))"
   ]
  },
  {
   "cell_type": "markdown",
   "metadata": {},
   "source": [
    "## Instructions\n",
    "\n",
    "1. Enter a message in the text field\n",
    "2. Click \"Client 1 → Client 2\" to send a message from Client 1 to Client 2\n",
    "3. Click \"Client 2 → Client 1\" to send a message from Client 2 to Client 1\n",
    "4. Watch the log output to see messages being sent and received\n",
    "5. Click \"Clear Log\" to clear the log output\n",
    "6. Click \"Cleanup Demo\" when finished to release resources\n",
    "\n",
    "This demo shows the basic communication capabilities of ReGenNexus Core."
   ]
  },
  {
   "cell_type": "code",
   "execution_count": null,
   "metadata": {},
   "source": [
    "# Advanced: Send a JSON message\n",
    "async def send_json_message():\n",
    "    json_content = {\n",
    "        \"command\": \"ping\",\n",
    "        \"timestamp\": time.time(),\n",
    "        \"data\": {\n",
    "            \"value\": 42,\n",
    "            \"unit\": \"answer\"\n",
    "        }\n",
    "    }\n",
    "    \n",
    "    await send_message(\n",
    "        from_client=client1,\n",
    "        to_client=client2,\n",
    "        content=json.dumps(json_content),\n",
    "        message_type=MessageType.JSON\n",
    "    )\n",
    "\n",
    "# Create and display button\n",
    "json_button = widgets.Button(description=\"Send JSON Message\")\n",
    "json_button.on_click(lambda b: asyncio.ensure_future(send_json_message()))\n",
    "display(json_button)"
   ]
  }
 ],
 "metadata": {
  "kernelspec": {
   "display_name": "Python 3",
   "language": "python",
   "name": "python3"
  },
  "language_info": {
   "codemirror_mode": {
    "name": "ipython",
    "version": 3
   },
   "file_extension": ".py",
   "mimetype": "text/x-python",
   "name": "python",
   "nbconvert_exporter": "python",
   "pygments_lexer": "ipython3",
   "version": "3.9.0"
  }
 },
 "nbformat": 4,
 "nbformat_minor": 4
}
